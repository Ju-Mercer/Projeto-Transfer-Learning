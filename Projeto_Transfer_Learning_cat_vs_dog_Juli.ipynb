{
  "nbformat": 4,
  "nbformat_minor": 0,
  "metadata": {
    "colab": {
      "provenance": [],
      "authorship_tag": "ABX9TyPg+lw5KSo/YUvcLhiBzbr/",
      "include_colab_link": true
    },
    "kernelspec": {
      "name": "python3",
      "display_name": "Python 3"
    },
    "language_info": {
      "name": "python"
    }
  },
  "cells": [
    {
      "cell_type": "markdown",
      "metadata": {
        "id": "view-in-github",
        "colab_type": "text"
      },
      "source": [
        "<a href=\"https://colab.research.google.com/github/Ju-Mercer/Projeto-Transfer-Learning/blob/main/Projeto_Transfer_Learning_cat_vs_dog_Juli.ipynb\" target=\"_parent\"><img src=\"https://colab.research.google.com/assets/colab-badge.svg\" alt=\"Open In Colab\"/></a>"
      ]
    },
    {
      "cell_type": "code",
      "execution_count": 56,
      "metadata": {
        "id": "3g8B5FI-K-E2"
      },
      "outputs": [],
      "source": [
        "import numpy as np\n",
        "import torch\n",
        "import torch.nn as F\n",
        "import torchvision\n",
        "import matplotlib.pyplot as plt\n",
        "from time import time\n",
        "from torchvision import datasets, transforms\n",
        "from torch import nn, optim"
      ]
    },
    {
      "cell_type": "markdown",
      "source": [
        " Objetivo é criar projeto usando transfer learning para treinar uma rede neural a distinguir uma gramímea especifíca pouco estudada: Braquiaria plantaginea de outras pertencentes ao gënero. Para isso utilizarei um banco de dado que criei com 100 imagens da espécie de interesse e outro, com 100 fotos de outras especies de gramíneas. S"
      ],
      "metadata": {
        "id": "AvEafTy9ORzk"
      }
    },
    {
      "cell_type": "markdown",
      "source": [
        "estou treinando a aula do prof Dieto da DIO.ME da aula Ïmplementando uma deep learning do zero no Python\""
      ],
      "metadata": {
        "id": "M4AwkG9cUC7n"
      }
    },
    {
      "cell_type": "code",
      "source": [
        "transform = transforms.ToTensor() #definindo a conversao de imagem para tensor\n",
        "\n",
        "trainset = datasets.MNIST('./MNIST_data/', download=True, train=True, transform=transform) #Carrega a parte de treino do Dataset\n",
        "trainloader = torch.utils.data.DataLoader(trainset, batch_size=64, shuffle=True) #Cria um buffer para pegar os dados por partes\n",
        "\n",
        "valset = datasets.MNIST('./MNIST_data/', download=True, train=False, transform=transform) #Carrega a parte de validacao\n",
        "valloader = torch.utils.data.DataLoader(valset, batch_size=64, shuffle=True) #cria um buffer para pegar os dados por partes"
      ],
      "metadata": {
        "id": "3mEUAcp9XSzL"
      },
      "execution_count": 57,
      "outputs": []
    },
    {
      "cell_type": "code",
      "source": [
        "dataiter = iter(trainloader)\n",
        "imagens, etiquetas = next(dataiter)\n",
        "plt.imshow(imagens[0].numpy().squeeze(), cmap='gray_r');"
      ],
      "metadata": {
        "colab": {
          "base_uri": "https://localhost:8080/",
          "height": 430
        },
        "id": "a8_NRRQEbk9L",
        "outputId": "60494cc9-1db2-4ae1-cfe9-db4a20db1cdf"
      },
      "execution_count": 58,
      "outputs": [
        {
          "output_type": "display_data",
          "data": {
            "text/plain": [
              "<Figure size 640x480 with 1 Axes>"
            ],
            "image/png": "[encoded data removed]"
          },
          "metadata": {}
        }
      ]
    },
    {
      "cell_type": "code",
      "source": [
        "print(imagens[0].shape) #para verificar as dimensoes do tensor de cada imagem\n",
        "print(etiquetas[0].shape) #para verificar a dimensao davetiqueta"
      ],
      "metadata": {
        "colab": {
          "base_uri": "https://localhost:8080/"
        },
        "id": "cUz2_CYHeNms",
        "outputId": "81a1bbc9-c3a2-4020-b26d-26f84746a533"
      },
      "execution_count": 59,
      "outputs": [
        {
          "output_type": "stream",
          "name": "stdout",
          "text": [
            "torch.Size([1, 28, 28])\n",
            "torch.Size([])\n"
          ]
        }
      ]
    },
    {
      "cell_type": "code",
      "source": [
        "class Modelo(nn.Module):\n",
        "  def __init__(self):\n",
        "    super(Modelo, self).__init__()\n",
        "    self.linear1 = nn.Linear(28*28, 128) #camada de entrada, 784 neuronios que se ligam a 128\n",
        "    self.linear2 = nn.Linear(128, 64) #camada interna1, 128 neuronios que se ligam a 64\n",
        "    self.linear3 = nn.Linear(64, 10) #camada interna2, 64 neuronios que se ligam a 10\n",
        "    # para a camada de saída náo é necessario definir nada pois só preisamos pegar o output da camada interna2\n",
        "\n",
        "  def  forwart(self, x):\n",
        "    X = F.rule(self.linear1(X)) # funcáo de ativacao da camada de entrada1\n",
        "    X = F.relu(self.linear2(X)) # funcão de ativacao da camada interna1 para a camada interna2\n",
        "    X = self.linear3(X) # funcão de ativacao da camada interna2 para a camada de saída, nesse cado f(x) = x\n",
        "    return F.log_softmax(X, dim=1) #dados utilizados para calcular a perda"
      ],
      "metadata": {
        "id": "DF41-UDkjQDu"
      },
      "execution_count": 60,
      "outputs": []
    },
    {
      "cell_type": "code",
      "source": [
        "def treino(modelo, trainloader, device):\n",
        "\n",
        "\n",
        "  otimizador = optim.SGD(modelo.parameters(), lr=0.01, momentum=0.5) #definindo o otimizador, ou definindo a politica de atualizacao de pesos e de bias\n",
        "  inicio = time() #timer para contar quanto tempo levou o treino\n",
        "\n",
        "  criterio = nn.NLLLoss() #definindo a funcao de perda\n",
        "  EPOCHS = 10 #numero que o algoritmo rodará, iniciar teste com 10 e depois aumentar para 30\n",
        "  modelo.train() #ativando o modo de treinamento de modelo\n",
        "\n",
        "  for epoch in range(EPOCHS):\n",
        "    perda_acumulada = 0 #inicia a perda acumulada em 0\n",
        "\n",
        "    for imagens, etiquetas in trainloader:\n",
        "\n",
        "      imagens = imagens.view(imagens.shape[0], -1) #convertendo as imagens para vetores de 28*28 para fi\n",
        "      otimizador.zero_grad() #zerando os gradientes por conta do ciclo anterios\n",
        "\n",
        "      output = modelo(imagens.to(device)) #colocando os dados no modelo\n",
        "      perda_instantanea = criterio(output, etiquetas.to(device)) #calculando a perda do epoch em questao\n",
        "\n",
        "      perda_instantanea.backward() #back propagation a partir da perda\n",
        "\n",
        "      otimizador.step() #atualizando os pesos e os bias\n",
        "\n",
        "      perda_acumulada += perda_instantanea.item() #acumulando a perda acumulada\n",
        "\n",
        "    else:\n",
        "      print(\"Epoch {} - Perda resultante: {}\".format(epoch+1, perda_acumulada/len(trainloader)))\n",
        "      print(\"\\nTempo de treino (em minutos) =\", (time() - inicio)/60)\n"
      ],
      "metadata": {
        "id": "cYQJIwFWmk7l"
      },
      "execution_count": 61,
      "outputs": []
    },
    {
      "cell_type": "code",
      "source": [
        "from logging import log\n",
        "def validacao(modelo,valloader, device):\n",
        "    conta_corretas, conta_todas = 0, 0\n",
        "    for imagens, etiquetas in valloader:\n",
        "        for i in range(len(etiquetas)):\n",
        "            img = imagens[i].view(1, 784)\n",
        "            # desativa a diferencacao automatica para acelerar a validacao. graficos computacionais dinamicos\n",
        "            with torch.no_grad():\n",
        "              logps = modelo(img.to(device)) #output do modelo em escala logaritmica\n",
        "\n",
        "            ps = torch.exp(logps) #converte output para escala normal, lembrando que é um tensor\n",
        "            probab = list(ps.cpu().numpy()[0])\n",
        "            etiqueta_pred = probab.index(max(probab)) #converte o tensor em um numero, no caso o numero que o modelo previu\n",
        "            etiqueta_certa = etiquetas.numpy()[i]\n",
        "            if(etiqueta_certa == etiqueta_pred): #compara a previsao com o valor correto\n",
        "                conta_corretas += 1\n",
        "            conta_todas += 1\n",
        "\n",
        "    print(\"Total de imagens testadas =\", conta_todas)\n",
        "    print(\"\\nPrecisão do modelo = {}%\".format(conta_corretas*100/conta_todas))\n",
        "\n"
      ],
      "metadata": {
        "id": "8mLLXkB1r_Fh"
      },
      "execution_count": 62,
      "outputs": []
    },
    {
      "cell_type": "code",
      "source": [
        "modelo = Modelo()\n",
        "device = torch.device(\"cuda\" if torch.cuda.is_available() else \"cpu\")\n",
        "modelo.to(device)"
      ],
      "metadata": {
        "colab": {
          "base_uri": "https://localhost:8080/"
        },
        "id": "JZzNsLXfvTTU",
        "outputId": "b8588f10-c7f0-410f-a079-b8b9ddb25c50"
      },
      "execution_count": 63,
      "outputs": [
        {
          "output_type": "execute_result",
          "data": {
            "text/plain": [
              "Modelo(\n",
              "  (linear1): Linear(in_features=784, out_features=128, bias=True)\n",
              "  (linear2): Linear(in_features=128, out_features=64, bias=True)\n",
              "  (linear3): Linear(in_features=64, out_features=10, bias=True)\n",
              ")"
            ]
          },
          "metadata": {},
          "execution_count": 63
        }
      ]
    },
    {
      "cell_type": "markdown",
      "source": [],
      "metadata": {
        "id": "Oz8a0PN5vfJj"
      }
    }
  ]
}